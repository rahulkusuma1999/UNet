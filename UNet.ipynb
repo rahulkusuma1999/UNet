{
  "nbformat": 4,
  "nbformat_minor": 0,
  "metadata": {
    "colab": {
      "name": "UNet.ipynb",
      "provenance": [],
      "collapsed_sections": []
    },
    "kernelspec": {
      "name": "python3",
      "display_name": "Python 3"
    },
    "accelerator": "GPU"
  },
  "cells": [
    {
      "cell_type": "code",
      "metadata": {
        "id": "lLzSNP0n88Lk",
        "colab_type": "code",
        "colab": {}
      },
      "source": [
        "import torch\n",
        "import torch.nn as nn"
      ],
      "execution_count": 6,
      "outputs": []
    },
    {
      "cell_type": "code",
      "metadata": {
        "id": "jvAjgThq-kbr",
        "colab_type": "code",
        "colab": {}
      },
      "source": [
        "def double_conv(in_c,out_c):    #convolutional layer of Conv2d and reLU\n",
        "  conv=nn.Sequential(\n",
        "      nn.Conv2d(in_c,out_c,kernel_size=3),\n",
        "      nn.ReLU(inplace=True),\n",
        "      nn.Conv2d(out_c,out_c,kernel_size=3),\n",
        "      nn.ReLU(inplace=True)\n",
        "\n",
        "  )\n",
        "  return conv"
      ],
      "execution_count": 7,
      "outputs": []
    },
    {
      "cell_type": "markdown",
      "metadata": {
        "id": "qJOlZ_ZpMq2H",
        "colab_type": "text"
      },
      "source": [
        ""
      ]
    },
    {
      "cell_type": "code",
      "metadata": {
        "id": "CX1joURVEhVd",
        "colab_type": "code",
        "colab": {}
      },
      "source": [
        "def crop_img(tensor,target_tensor):     #cropping image \n",
        "  target_size=target_tensor.size()[2]\n",
        "  tensor_size=tensor.size()[2]\n",
        "  delta=tensor_size - target_size\n",
        "  delta=delta//2\n",
        "  return tensor[:,:,delta:tensor_size-delta,delta:tensor_size-delta] "
      ],
      "execution_count": 16,
      "outputs": []
    },
    {
      "cell_type": "markdown",
      "metadata": {
        "id": "137NUko5D4n2",
        "colab_type": "text"
      },
      "source": [
        ""
      ]
    },
    {
      "cell_type": "code",
      "metadata": {
        "id": "O_jCBVka9CJF",
        "colab_type": "code",
        "colab": {
          "base_uri": "https://localhost:8080/",
          "height": 884
        },
        "outputId": "71f5c478-657b-40b9-f05c-1a5a564f7a0f"
      },
      "source": [
        "\n",
        "\n",
        "class UNet(nn.Module):\n",
        "  def __init__(self):\n",
        "\n",
        "    super(UNet,self).__init__()\n",
        "\n",
        "    self.max_pool_2x2=nn.MaxPool2d(kernel_size=2,stride=2)  # downscaling the image\n",
        "    self.down_conv_1=double_conv(1,64)\n",
        "    self.down_conv_2=double_conv(64,128)\n",
        "    self.down_conv_3=double_conv(128,256)\n",
        "    self.down_conv_4=double_conv(256,512)\n",
        "    self.down_conv_5=double_conv(512,1024)\n",
        "\n",
        "\n",
        "    self.up_trans_1=nn.ConvTranspose2d(          # to upscale the image \n",
        "        in_channels=1024,\n",
        "        out_channels=512,kernel_size=2,stride=2\n",
        "    )\n",
        "    self.up_conv_1=double_conv(1024,512)\n",
        "    \n",
        "    self.up_trans_2=nn.ConvTranspose2d(\n",
        "        in_channels=512,\n",
        "        out_channels=256,kernel_size=2,stride=2\n",
        "    )\n",
        "    self.up_conv_2=double_conv(512,256)\n",
        "\n",
        "    self.up_trans_3=nn.ConvTranspose2d(\n",
        "        in_channels=256,\n",
        "        out_channels=128,kernel_size=2,stride=2\n",
        "    )\n",
        "    self.up_conv_3=double_conv(256,128)\n",
        "\n",
        "    self.up_trans_4=nn.ConvTranspose2d(\n",
        "        in_channels=128,\n",
        "        out_channels=64,kernel_size=2,stride=2\n",
        "    )\n",
        "    self.up_conv_4=double_conv(128,64)\n",
        "    \n",
        "\n",
        "\n",
        "    self.out=nn.Conv2d(     # for the output image size\n",
        "        in_channels=64,\n",
        "        out_channels=2,   #here you can chaneg the out channels as per the number of segmentation we want\n",
        "        kernel_size=1\n",
        "    )\n",
        "\n",
        "\n",
        "  def forward(self,image):\n",
        "    #bs,c,h,w\n",
        "    x1=self.down_conv_1(image)\n",
        "\n",
        "    x2=self.max_pool_2x2(x1)\n",
        "    x3=self.down_conv_2(x2)\n",
        "    x4=self.max_pool_2x2(x3)\n",
        "    x5=self.down_conv_3(x4)\n",
        "    \n",
        "    x6=self.max_pool_2x2(x5)\n",
        "    x7=self.down_conv_4(x6)\n",
        "    x8=self.max_pool_2x2(x7)\n",
        "    x9=self.down_conv_5(x8) \n",
        "    \n",
        "  \n",
        "    x=self.up_trans_1(x9)\n",
        "    y=crop_img(x7,x)           #need to crop the image to be of expected size\n",
        "    x=self.up_conv_1(torch.cat([x,y],1))\n",
        "    \n",
        "    \n",
        "    x=self.up_trans_2(x)\n",
        "    y=crop_img(x5,x)\n",
        "    x=self.up_conv_2(torch.cat([x,y],1))\n",
        "\n",
        "\n",
        "    x=self.up_trans_3(x)\n",
        "    y=crop_img(x3,x)\n",
        "    x=self.up_conv_3(torch.cat([x,y],1))\n",
        "\n",
        "\n",
        "    x=self.up_trans_4(x)\n",
        "    y=crop_img(x1,x)\n",
        "    x=self.up_conv_4(torch.cat([x,y],1))\n",
        "\n",
        "    self.out(x)     # to convert to expexted output size\n",
        "    \n",
        "    print(x.size())\n",
        "    return x\n",
        "if __name__==\"__main__\":\n",
        "  image=torch.rand((1,1,572,572))\n",
        "  model=UNet()\n",
        "  print(model(image))\n",
        "\n",
        "\n",
        "\n",
        "\n",
        "\n",
        "\n",
        "\n"
      ],
      "execution_count": 25,
      "outputs": [
        {
          "output_type": "stream",
          "text": [
            "torch.Size([1, 64, 388, 388])\n",
            "tensor([[[[0.0094, 0.0070, 0.0048,  ..., 0.0066, 0.0029, 0.0077],\n",
            "          [0.0049, 0.0144, 0.0000,  ..., 0.0110, 0.0074, 0.0015],\n",
            "          [0.0163, 0.0033, 0.0044,  ..., 0.0032, 0.0065, 0.0024],\n",
            "          ...,\n",
            "          [0.0109, 0.0073, 0.0119,  ..., 0.0000, 0.0080, 0.0131],\n",
            "          [0.0000, 0.0135, 0.0038,  ..., 0.0197, 0.0055, 0.0196],\n",
            "          [0.0179, 0.0000, 0.0214,  ..., 0.0250, 0.0078, 0.0000]],\n",
            "\n",
            "         [[0.0506, 0.0586, 0.0488,  ..., 0.0564, 0.0531, 0.0485],\n",
            "          [0.0605, 0.0623, 0.0477,  ..., 0.0472, 0.0611, 0.0529],\n",
            "          [0.0455, 0.0649, 0.0460,  ..., 0.0534, 0.0383, 0.0509],\n",
            "          ...,\n",
            "          [0.0595, 0.0586, 0.0479,  ..., 0.0496, 0.0546, 0.0611],\n",
            "          [0.0509, 0.0514, 0.0558,  ..., 0.0442, 0.0530, 0.0515],\n",
            "          [0.0549, 0.0603, 0.0434,  ..., 0.0474, 0.0425, 0.0665]],\n",
            "\n",
            "         [[0.0157, 0.0279, 0.0089,  ..., 0.0074, 0.0165, 0.0049],\n",
            "          [0.0130, 0.0175, 0.0207,  ..., 0.0128, 0.0125, 0.0200],\n",
            "          [0.0147, 0.0201, 0.0121,  ..., 0.0206, 0.0110, 0.0078],\n",
            "          ...,\n",
            "          [0.0180, 0.0185, 0.0164,  ..., 0.0189, 0.0063, 0.0296],\n",
            "          [0.0263, 0.0025, 0.0142,  ..., 0.0090, 0.0137, 0.0168],\n",
            "          [0.0122, 0.0189, 0.0048,  ..., 0.0057, 0.0268, 0.0160]],\n",
            "\n",
            "         ...,\n",
            "\n",
            "         [[0.0000, 0.0000, 0.0000,  ..., 0.0000, 0.0000, 0.0000],\n",
            "          [0.0000, 0.0000, 0.0000,  ..., 0.0000, 0.0000, 0.0000],\n",
            "          [0.0000, 0.0000, 0.0000,  ..., 0.0000, 0.0000, 0.0000],\n",
            "          ...,\n",
            "          [0.0000, 0.0000, 0.0000,  ..., 0.0000, 0.0000, 0.0000],\n",
            "          [0.0000, 0.0000, 0.0000,  ..., 0.0000, 0.0000, 0.0000],\n",
            "          [0.0000, 0.0000, 0.0000,  ..., 0.0000, 0.0000, 0.0000]],\n",
            "\n",
            "         [[0.0322, 0.0382, 0.0318,  ..., 0.0326, 0.0304, 0.0203],\n",
            "          [0.0224, 0.0406, 0.0260,  ..., 0.0337, 0.0397, 0.0397],\n",
            "          [0.0328, 0.0277, 0.0299,  ..., 0.0184, 0.0306, 0.0278],\n",
            "          ...,\n",
            "          [0.0365, 0.0357, 0.0394,  ..., 0.0120, 0.0245, 0.0413],\n",
            "          [0.0281, 0.0427, 0.0271,  ..., 0.0238, 0.0298, 0.0413],\n",
            "          [0.0354, 0.0311, 0.0295,  ..., 0.0461, 0.0200, 0.0366]],\n",
            "\n",
            "         [[0.0000, 0.0000, 0.0000,  ..., 0.0000, 0.0000, 0.0000],\n",
            "          [0.0000, 0.0000, 0.0000,  ..., 0.0000, 0.0000, 0.0000],\n",
            "          [0.0000, 0.0000, 0.0000,  ..., 0.0000, 0.0000, 0.0000],\n",
            "          ...,\n",
            "          [0.0000, 0.0000, 0.0000,  ..., 0.0000, 0.0000, 0.0000],\n",
            "          [0.0000, 0.0000, 0.0000,  ..., 0.0000, 0.0000, 0.0000],\n",
            "          [0.0000, 0.0000, 0.0000,  ..., 0.0000, 0.0000, 0.0000]]]],\n",
            "       grad_fn=<ReluBackward1>)\n"
          ],
          "name": "stdout"
        }
      ]
    },
    {
      "cell_type": "code",
      "metadata": {
        "id": "bDj0yspuC0Q2",
        "colab_type": "code",
        "colab": {}
      },
      "source": [
        ""
      ],
      "execution_count": 9,
      "outputs": []
    }
  ]
}